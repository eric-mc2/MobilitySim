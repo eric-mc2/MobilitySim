{
 "cells": [
  {
   "cell_type": "code",
   "execution_count": 1,
   "metadata": {},
   "outputs": [],
   "source": [
    "# Author: Eric Chandler <echandler@uchicago.edu>\n",
    "# Description: Trying to write some computer code to make sense of the Durlauf-Seshadri paper"
   ]
  },
  {
   "cell_type": "markdown",
   "metadata": {},
   "source": [
    "## Goals\n",
    "Implement the Durlauf-Seshadri model as a simulation, reproduce the expected stylized facts, identify causal mechanism, test implications of extending model or relaxing certain assumptions.\n",
    "## Argument\n",
    "The paper's main arguments are 1) segregation causes and aggravates inequality 2) and that inequality decreases subsequent generations' mobility.\n",
    "## Stylized Facts\n",
    "* intertemporal great gadby curve emerges\n",
    "## Key Assumptions\n",
    "* no marriage or inter-family income sharing\n",
    "* one child, no elders, no population growth or shrink\n",
    "* income is certain and fully attained at time of child investment (no credit constraint)\n",
    "* no direct parental investment (only via neighborhood)\n",
    "* parental utility depends on child expected income, not on child expected utility or human capital\n",
    "## Interesting Questions\n",
    "* credit constraints are an alternative identifiable mechanism"
   ]
  },
  {
   "cell_type": "markdown",
   "metadata": {},
   "source": [
    "## Model\n",
    "cross-sectional inequality -> neighborhood differences\n",
    "\n",
    "segregation:= increasing function of cross-sectional inequality\n",
    "\n",
    "mobility := parental input + neighborhood quality\n",
    "\n",
    "agents in firm/school split earninge evenly. no additional benefits for most productive person.\n",
    "\n",
    "### Optional\n",
    "* assortive matching of workers by skill because its more efficient overall\n",
    "* assortive matching of students to schools because its more efficient overall\n",
    "* spatial segregation\n",
    "\n",
    "\n"
   ]
  },
  {
   "cell_type": "code",
   "execution_count": 3,
   "metadata": {},
   "outputs": [],
   "source": [
    "import numpy as np\n",
    "import pandas as pd\n",
    "from numpy.random import default_rng\n",
    "import scipy"
   ]
  },
  {
   "source": [
    "## Define Model Processes"
   ],
   "cell_type": "markdown",
   "metadata": {}
  },
  {
   "cell_type": "code",
   "execution_count": null,
   "metadata": {},
   "outputs": [],
   "source": [
    "# Parameters\n",
    "N_FAMILIES = 100\n",
    "N_TIMESTEPS = 100\n",
    "INCOME_GROWTH = 0   # alpha in eq(1)\n",
    "INCOME_MOBILITY_COEF = 0  # beta in eq(1)\n",
    "INCOME_NOISE_AUTOREG = 1 \n",
    "rng = default_rng(seed=12345)"
   ]
  },
  {
   "cell_type": "code",
   "execution_count": null,
   "metadata": {},
   "outputs": [],
   "source": [
    "def generate_white_noise(rng, size, mean=0, var=1):\n",
    "    \"\"\"returns `size` random samples\"\"\"\n",
    "    # any white noise process will do\n",
    "    return rng.standard_normal(mean, var, size)\n",
    "\n",
    "def generate_income_noise(rng, parent_noise=None):\n",
    "    \"\"\"aka epsilon, a MA(1) process.  from eq (1)\"\"\"\n",
    "    noise = generate_white_noise(rng, N_FAMILIES)\n",
    "    if parent_noise is not None:\n",
    "        noise += INCOME_NOISE_AUTOREG * parent_noise\n",
    "    return noise\n",
    "    \n",
    "def generate_mobility(parent_income):\n",
    "    \"\"\" beta in eq(1) and eq(2) \"\"\"\n",
    "    # follows eq(1) for now\n",
    "    return np.full(parent_income.shape, INCOME_MOBILITY_COEF)\n",
    "\n",
    "def transmit_income(rng, parent_income, parent_noise):\n",
    "    \"\"\"one intergenerational timestep. eq(1) \"\"\"\n",
    "    mobility = generate_mobility(parent_income)\n",
    "    noise = generate_income_noise(rng, parent_noise)\n",
    "    offspring_income = INCOME_GROWTH + mobility * parent_income + noise\n",
    "    return offspring_income, noise\n",
    "\n",
    "def initialize_income(rng):\n",
    "    \"\"\" create initial income distribution \"\"\"\n",
    "    # this is arbitrary right now\n",
    "    income = np.full(N_FAMILIES, 1)\n",
    "    return income, np.zeros(income.shape)\n",
    "\n",
    "def run():\n",
    "    income = np.zeros(N_TIMESTEPS, N_FAMILIES)\n",
    "    parent_income, parent_noise = initialize_income(rng)\n",
    "    income[0, :] = parent_income\n",
    "\n",
    "    for t in range(1, N_TIMESTEPS):\n",
    "        child_income, child_noise = transmit_income(rng, income[t-1, :], parent_noise)\n",
    "        income[t, :] = child_income\n",
    "        parent_noise = child_noise\n",
    "    \n",
    "    pd.DataFrame(income).plot()\n",
    "                                            "
   ]
  },
  {
   "source": [
    "## Previous code describes paper up through page 5"
   ],
   "cell_type": "markdown",
   "metadata": {}
  },
  {
   "cell_type": "code",
   "execution_count": null,
   "metadata": {},
   "outputs": [],
   "source": [
    "# Parameters\n",
    "N_FAMILIES = 100\n",
    "N_TIMESTEPS = 100\n",
    "income_noise_theta = 1\n",
    "cobbdouglass = np.array(.5, .5)\n",
    "# Model Objects\n",
    "income = np.array(N_TIMESTEPS, N_FAMILIES)\n",
    "income_noise = np.array(N_TIMESTEPS, N_FAMILIES)\n",
    "income_shocks = np.array(N_TIMESTEPS, N_FAMILIES)\n",
    "skills = np.array(N_TIMESTEPS, N_FAMILIES)\n",
    "utility = np.array(N_TIMESTEPS, N_FAMILIES)\n",
    "info = np.array(N_TIMESTEPS)\n",
    "# Initialize statistical objects\n",
    "income[0] = initial_income()\n",
    "# Step\n",
    "def expected_income(income, info, t):\n",
    "    return income[t+1] | info[t]\n",
    "for t in N_TIMESTEPS:\n",
    "    income_eps = (np.mean(income[:t-1]) + income_noise[t] + income_noise_theta * income_noise[t-1])\n",
    "    income[t] = alpha + beta * (skills[t-1] * income_shocks[t]) + income_eps\n",
    "    utility[t] = cobbdouglas * np.array(np.log(consumption), np.log(expected_income(income, info, t)))\n",
    "    consumption = np.array(N_FAMILIES)\n",
    "    taxes = np.array(N_FAMILIES)"
   ]
  }
 ],
 "metadata": {
  "kernelspec": {
   "display_name": "Python 3",
   "language": "python",
   "name": "python3"
  },
  "language_info": {
   "codemirror_mode": {
    "name": "ipython",
    "version": 3
   },
   "file_extension": ".py",
   "mimetype": "text/x-python",
   "name": "python",
   "nbconvert_exporter": "python",
   "pygments_lexer": "ipython3",
   "version": "3.8.5"
  }
 },
 "nbformat": 4,
 "nbformat_minor": 4
}